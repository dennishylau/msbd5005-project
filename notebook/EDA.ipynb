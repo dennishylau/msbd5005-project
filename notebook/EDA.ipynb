{
 "cells": [
  {
   "cell_type": "code",
   "execution_count": null,
   "id": "25797137-f643-4207-b93d-27c18d667d9b",
   "metadata": {},
   "outputs": [],
   "source": [
    "import os\n",
    "import re\n",
    "import numpy as np\n",
    "import pandas as pd"
   ]
  },
  {
   "cell_type": "code",
   "execution_count": null,
   "id": "750be384-e7bc-4589-8168-a43f82b5818a",
   "metadata": {},
   "outputs": [],
   "source": [
    "DATA_DIR = '../data/'"
   ]
  },
  {
   "cell_type": "code",
   "execution_count": null,
   "id": "eb7c0e19-ad52-4fc2-a83d-7a68105a024b",
   "metadata": {},
   "outputs": [],
   "source": [
    "os.listdir(DATA_DIR)"
   ]
  },
  {
   "cell_type": "markdown",
   "id": "8bad79d2",
   "metadata": {},
   "source": [
    "### Read IMF data"
   ]
  },
  {
   "cell_type": "code",
   "execution_count": null,
   "id": "605d013a-611b-4843-98a1-57c1b49e7254",
   "metadata": {},
   "outputs": [],
   "source": [
    "df = pd.read_parquet(os.path.join(DATA_DIR, 'imf_dot.parq'))"
   ]
  },
  {
   "cell_type": "markdown",
   "id": "f258de42",
   "metadata": {},
   "source": [
    "### Read Coordinates lookup from Google\n",
    "The data was downloaded from https://developers.google.com/public-data/docs/canonical/countries_csv"
   ]
  },
  {
   "cell_type": "code",
   "execution_count": null,
   "id": "89b950ea",
   "metadata": {},
   "outputs": [],
   "source": [
    "coord = pd.read_csv(os.path.join(DATA_DIR, 'google_country_coordinates_lookup.csv'))"
   ]
  },
  {
   "cell_type": "markdown",
   "id": "c194d475",
   "metadata": {},
   "source": [
    "### Read Country Code provided by IMF"
   ]
  },
  {
   "cell_type": "code",
   "execution_count": null,
   "id": "b5470db8",
   "metadata": {},
   "outputs": [],
   "source": [
    "country_code = pd.read_csv(os.path.join(DATA_DIR, 'DOT_03-28-2022 04-15-57-36_timeSeries', 'Metadata_DOT_03-28-2022 04-15-57-36_timeSeries.csv'))"
   ]
  },
  {
   "cell_type": "code",
   "execution_count": null,
   "id": "368c6556",
   "metadata": {},
   "outputs": [],
   "source": [
    "country_code_dict = {}\n",
    "country_code_iso3 = {}\n",
    "for i, row in country_code.iloc[11:1835].iterrows():  # only row 11 - 1835 contains useful information\n",
    "    if 'Country ISO 2 Code' in row['Metadata Attribute']:\n",
    "        country = row['Country Name']\n",
    "        code = row['Metadata Value']\n",
    "        if pd.isna(code):\n",
    "            print(f'No country code found for country: {country}')\n",
    "            continue\n",
    "        country_code_dict[country] = code\n",
    "    if 'Country ISO 3 Code' in row['Metadata Attribute']:\n",
    "        country = row['Country Name']\n",
    "        code = row['Metadata Value']\n",
    "        if pd.isna(code):\n",
    "            print(f'No country ISO3 code found for country: {country}')\n",
    "            continue\n",
    "        country_code_iso3[country] = code"
   ]
  },
  {
   "cell_type": "code",
   "execution_count": null,
   "id": "8134cdd4",
   "metadata": {},
   "outputs": [],
   "source": [
    "df['Country Code'] = df['Country Name'].map(country_code_dict)\n",
    "df['Country Code ISO3'] = df['Country Name'].map(country_code_iso3)"
   ]
  },
  {
   "cell_type": "code",
   "execution_count": null,
   "id": "f784b5bc",
   "metadata": {},
   "outputs": [],
   "source": [
    "df['Counterpart Country Code'] = df['Counterpart Country Name'].map(country_code_dict)\n",
    "df['Counterpart Country Code ISO3'] = df['Counterpart Country Name'].map(country_code_iso3)"
   ]
  },
  {
   "cell_type": "code",
   "execution_count": null,
   "id": "6f11cd0c",
   "metadata": {},
   "outputs": [],
   "source": [
    "coord_dict = coord.set_index('country')[['latitude', 'longitude']].to_dict(orient='index')"
   ]
  },
  {
   "cell_type": "code",
   "execution_count": null,
   "id": "d3f145e9",
   "metadata": {},
   "outputs": [],
   "source": [
    "def get_coordinates(code):\n",
    "    try:\n",
    "        return coord_dict[code]['latitude'], coord_dict[code]['longitude']\n",
    "    except KeyError:\n",
    "        return None, None"
   ]
  },
  {
   "cell_type": "code",
   "execution_count": null,
   "id": "a55f1b83",
   "metadata": {},
   "outputs": [],
   "source": [
    "df['latitude'], df['longitude'] = zip(*df['Country Code'].apply(get_coordinates))"
   ]
  },
  {
   "cell_type": "code",
   "execution_count": null,
   "id": "e2c69252",
   "metadata": {},
   "outputs": [],
   "source": [
    "df['Counterpart latitude'], df['Counterpart longitude'] = zip(*df['Counterpart Country Code'].apply(get_coordinates))"
   ]
  },
  {
   "cell_type": "markdown",
   "id": "8c023a1b",
   "metadata": {},
   "source": [
    "### Drop NaN for records with empty Country lat long or Counterpart Country lat long\n",
    "drawing arrows on map requires a pair of coordinates. Cannot be drawn if either one is missing"
   ]
  },
  {
   "cell_type": "code",
   "execution_count": null,
   "id": "a4f3c040",
   "metadata": {},
   "outputs": [],
   "source": [
    "df = df.dropna(subset=['latitude', 'longitude', 'Country Code', 'Counterpart latitude', 'Counterpart longitude', 'Counterpart Country Code'])"
   ]
  },
  {
   "cell_type": "code",
   "execution_count": null,
   "id": "14dfb969",
   "metadata": {},
   "outputs": [],
   "source": [
    "df = df[df['Indicator Name']=='Trade Balance']"
   ]
  },
  {
   "cell_type": "code",
   "execution_count": null,
   "id": "bc148cbd",
   "metadata": {},
   "outputs": [],
   "source": [
    "df.to_parquet(os.path.join(DATA_DIR, 'processed_for_map.snappy.parquet'))"
   ]
  },
  {
   "cell_type": "markdown",
   "id": "595ec8e4",
   "metadata": {},
   "source": [
    "### Plotting"
   ]
  },
  {
   "cell_type": "code",
   "execution_count": 13,
   "id": "88a83993",
   "metadata": {},
   "outputs": [],
   "source": [
    "import numpy as np\n",
    "import pandas as pd\n",
    "import plotly.graph_objects as go\n",
    "import os"
   ]
  },
  {
   "cell_type": "code",
   "execution_count": 14,
   "id": "4d7a65d8",
   "metadata": {},
   "outputs": [],
   "source": [
    "DATA_DIR = '../data/'\n",
    "df = pd.read_parquet(os.path.join(DATA_DIR, 'processed_for_map.snappy.parquet'))"
   ]
  },
  {
   "cell_type": "code",
   "execution_count": 15,
   "id": "0496e26d",
   "metadata": {},
   "outputs": [
    {
     "data": {
      "text/plain": [
       "array(['Argentina', 'Afghanistan, Islamic Rep. of', 'Algeria', 'Angola',\n",
       "       'Anguilla', 'American Samoa', 'Albania', 'Antigua and Barbuda',\n",
       "       'Australia', 'Bangladesh', 'Armenia, Rep. of', 'Belarus, Rep. of',\n",
       "       'Bahamas, The', 'Bahrain, Kingdom of', 'Azerbaijan, Rep. of',\n",
       "       'Barbados', 'Austria', 'Aruba, Kingdom of the Netherlands',\n",
       "       'Belgium', 'Bhutan', 'Benin', 'Botswana', 'Brazil', 'Belize',\n",
       "       'Bolivia', 'Bermuda', 'Bosnia and Herzegovina', 'Burkina Faso',\n",
       "       'Central African Rep.', 'Chad', 'Burundi', 'Bulgaria', 'Canada',\n",
       "       'Cambodia', 'Cabo Verde', 'Cameroon', 'Brunei Darussalam',\n",
       "       'Costa Rica', 'China, P.R.: Hong Kong', 'Congo, Dem. Rep. of the',\n",
       "       'China, P.R.: Mainland', 'China, P.R.: Macao', 'Colombia',\n",
       "       'Congo, Rep. of', 'Chile', 'Comoros, Union of the',\n",
       "       'Croatia, Rep. of', 'Djibouti', \"Côte d'Ivoire\", 'Denmark',\n",
       "       'Czech Rep.', 'Cyprus', 'Cuba', 'Dominica', 'El Salvador',\n",
       "       'Egypt, Arab Rep. of', 'Dominican Rep.', 'Ecuador',\n",
       "       'Eritrea, The State of', 'Falkland Islands (Malvinas)',\n",
       "       'Eswatini, Kingdom of', 'Fiji, Rep. of', 'Faroe Islands',\n",
       "       'Estonia, Rep. of', 'Ethiopia, The Federal Dem. Rep. of',\n",
       "       'Equatorial Guinea, Rep. of', 'Georgia', 'French Polynesia',\n",
       "       'France', 'Ghana', 'Finland', 'Germany', 'Gibraltar', 'Gabon',\n",
       "       'Greece', 'Gambia, The', 'Greenland', 'Honduras', 'Haiti',\n",
       "       'Grenada', 'Guatemala', 'Guinea-Bissau', 'Guyana', 'Guam',\n",
       "       'Guinea', 'Holy See', 'Iceland', 'Hungary', 'Jamaica', 'Indonesia',\n",
       "       'Ireland', 'Iran, Islamic Rep. of', 'Italy', 'Israel', 'Iraq',\n",
       "       'India', 'Kuwait', 'Kiribati', 'Kyrgyz Rep.',\n",
       "       'Kazakhstan, Rep. of', 'Kenya', 'Jordan', 'Kosovo, Rep. of',\n",
       "       'Japan', \"Korea, Dem. People's Rep. of\", 'Korea, Rep. of',\n",
       "       'Liberia', 'Madagascar, Rep. of', 'Libya', 'Lebanon', 'Lithuania',\n",
       "       'Luxembourg', 'Lesotho, Kingdom of', 'Malawi', 'Latvia',\n",
       "       \"Lao People's Dem. Rep.\", 'Maldives',\n",
       "       'Mauritania, Islamic Rep. of', 'Mauritius', 'Malta', 'Mali',\n",
       "       'Marshall Islands, Rep. of the', 'Mexico',\n",
       "       'Micronesia, Federated States of', 'Malaysia',\n",
       "       'Mozambique, Rep. of', 'Nauru, Rep. of', 'Myanmar', 'Morocco',\n",
       "       'Mongolia', 'Moldova, Rep. of', 'Montserrat', 'Montenegro',\n",
       "       'Norway', 'Netherlands, The', 'Netherlands Antilles',\n",
       "       'New Zealand', 'New Caledonia', 'Niger', 'Nigeria', 'Nepal',\n",
       "       'Nicaragua', 'North Macedonia, Republic of', 'Paraguay',\n",
       "       'Pakistan', 'Peru', 'Poland, Rep. of', 'Panama',\n",
       "       'Papua New Guinea', 'Philippines', 'Palau, Rep. of', 'Oman',\n",
       "       'São Tomé and Príncipe, Dem. Rep. of', 'Saudi Arabia', 'Portugal',\n",
       "       'Qatar', 'Rwanda', 'Russian Federation', 'Senegal',\n",
       "       'San Marino, Rep. of', 'Romania', 'Samoa', 'Slovenia, Rep. of',\n",
       "       'Seychelles', 'Singapore', 'Solomon Islands', 'Serbia, Rep. of',\n",
       "       'Slovak Rep.', 'Sierra Leone', 'Somalia', 'Sudan', 'Spain',\n",
       "       'St. Vincent and the Grenadines', 'St. Lucia', 'Sri Lanka',\n",
       "       'St. Kitts and Nevis', 'South Africa', 'Tanzania, United Rep. of',\n",
       "       'Tonga', 'Togo', 'Syrian Arab Rep.', 'Thailand', 'Sweden',\n",
       "       'Timor-Leste, Dem. Rep. of', 'Switzerland', 'Tajikistan, Rep. of',\n",
       "       'Suriname', 'Tunisia', 'Ukraine', 'Uganda', 'United Kingdom',\n",
       "       'Trinidad and Tobago', 'United States', 'Turkmenistan', 'Turkey',\n",
       "       'United Arab Emirates', 'Tuvalu', 'Vietnam',\n",
       "       'Venezuela, Rep. Bolivariana de', 'Vanuatu', 'Uruguay',\n",
       "       'Uzbekistan, Rep. of', 'West Bank and Gaza', 'Yemen, Rep. of',\n",
       "       'Zimbabwe', 'Zambia'], dtype=object)"
      ]
     },
     "execution_count": 15,
     "metadata": {},
     "output_type": "execute_result"
    }
   ],
   "source": [
    "df['Country Name'].unique()"
   ]
  },
  {
   "cell_type": "code",
   "execution_count": 111,
   "id": "4f5ba9fb",
   "metadata": {},
   "outputs": [],
   "source": [
    "chosen_country = 'China, P.R.: Mainland'\n",
    "chosen_start_year = 1948\n",
    "chosen_end_year = 2020\n",
    "chosen_top_n = 5\n",
    "\n",
    "line_max_width = 10\n",
    "line_min_width = 1"
   ]
  },
  {
   "cell_type": "code",
   "execution_count": 112,
   "id": "b2f6ea4c",
   "metadata": {},
   "outputs": [
    {
     "name": "stderr",
     "output_type": "stream",
     "text": [
      "C:\\Users\\Lemon\\AppData\\Local\\Temp\\ipykernel_13800\\921801737.py:4: SettingWithCopyWarning:\n",
      "\n",
      "\n",
      "A value is trying to be set on a copy of a slice from a DataFrame.\n",
      "Try using .loc[row_indexer,col_indexer] = value instead\n",
      "\n",
      "See the caveats in the documentation: https://pandas.pydata.org/pandas-docs/stable/user_guide/indexing.html#returning-a-view-versus-a-copy\n",
      "\n"
     ]
    }
   ],
   "source": [
    "country_data = df[df['Country Name'] == chosen_country]\n",
    "\n",
    "year_columns = [str(year) for year in range(chosen_start_year, chosen_end_year+1)]\n",
    "country_data['total'] = country_data[year_columns].sum(axis=1)\n",
    "\n",
    "top_balance = country_data[country_data['Indicator Name']=='Trade Balance'].sort_values(by='total', ascending=False)"
   ]
  },
  {
   "cell_type": "code",
   "execution_count": 113,
   "id": "eee8b929",
   "metadata": {},
   "outputs": [
    {
     "name": "stderr",
     "output_type": "stream",
     "text": [
      "C:\\Users\\Lemon\\AppData\\Local\\Temp\\ipykernel_13800\\504730767.py:4: SettingWithCopyWarning:\n",
      "\n",
      "\n",
      "A value is trying to be set on a copy of a slice from a DataFrame.\n",
      "Try using .loc[row_indexer,col_indexer] = value instead\n",
      "\n",
      "See the caveats in the documentation: https://pandas.pydata.org/pandas-docs/stable/user_guide/indexing.html#returning-a-view-versus-a-copy\n",
      "\n",
      "C:\\Users\\Lemon\\AppData\\Local\\Temp\\ipykernel_13800\\504730767.py:14: FutureWarning:\n",
      "\n",
      "The frame.append method is deprecated and will be removed from pandas in a future version. Use pandas.concat instead.\n",
      "\n"
     ]
    }
   ],
   "source": [
    "country_data = df[df['Country Name'] == chosen_country]\n",
    "\n",
    "year_columns = [str(year) for year in range(chosen_start_year, chosen_end_year+1)]\n",
    "country_data['total'] = country_data[year_columns].sum(axis=1)\n",
    "\n",
    "pos_balance = country_data[country_data['total']>=0].sort_values(by='total', ascending=False)\n",
    "width = (pos_balance['total'] / pos_balance['total'].max()).to_numpy()\n",
    "pos_balance['width'] = (width - np.min(width)) / (np.max(width) - np.min(width)) * (line_max_width - line_min_width) + line_min_width\n",
    "\n",
    "neg_balance = country_data[country_data['total']<0].sort_values(by='total', ascending=True)\n",
    "width = (neg_balance['total'] / neg_balance['total'].max()).to_numpy()\n",
    "neg_balance['width'] = (width - np.min(width)) / (np.max(width) - np.min(width)) * (line_max_width - line_min_width) + line_min_width\n",
    "\n",
    "data = pos_balance.head(chosen_top_n).append(neg_balance.head(chosen_top_n))"
   ]
  },
  {
   "cell_type": "code",
   "execution_count": 140,
   "id": "74b72559",
   "metadata": {},
   "outputs": [
    {
     "data": {
      "application/vnd.jupyter.widget-view+json": {
       "model_id": "cc3013f5ef2b44cd9d766dd7f7b3503b",
       "version_major": 2,
       "version_minor": 0
      },
      "text/plain": [
       "FigureWidget({\n",
       "    'data': [{'colorscale': [[0, 'rgb(255, 232, 84)'], [1, 'rgb(255, 232, 84)']],\n",
       "             …"
      ]
     },
     "metadata": {},
     "output_type": "display_data"
    },
    {
     "name": "stdout",
     "output_type": "stream",
     "text": [
      "Choropleth({\n",
      "    'colorscale': [[0, 'rgb(255, 232, 84)'], [1, 'rgb(255, 232, 84)']],\n",
      "    'hoverlabel': {'bgcolor': 'rgb(255, 232, 84)'},\n",
      "    'hovertemplate': '<b>China, P.R.: Mainland</b><extra>CHN</extra>',\n",
      "    'locationmode': 'ISO-3',\n",
      "    'locations': [CHN],\n",
      "    'marker': {'line': {'color': 'white', 'width': 2}},\n",
      "    'showlegend': False,\n",
      "    'showscale': False,\n",
      "    'uid': '698d88c8-c00a-4d1f-affd-4c8b2a50872a',\n",
      "    'z': [1]\n",
      "})\n",
      "Choropleth({\n",
      "    'autocolorscale': False,\n",
      "    'colorscale': [[0, 'rgb(230, 230, 230)'], [1, 'rgb(230, 230, 230)']],\n",
      "    'hoverlabel': {'bgcolor': 'rgb(230, 230, 230)'},\n",
      "    'hovertemplate': '<b>%{text}</b><br><extra>%{hovertext}</extra>',\n",
      "    'hovertext': array(['HKG', 'USA', 'NLD', 'GBR', 'IND', 'TWN', 'KOR', 'AUS', 'JPN', 'BRA'],\n",
      "                       dtype=object),\n",
      "    'locationmode': 'ISO-3',\n",
      "    'locations': array(['HKG', 'USA', 'NLD', 'GBR', 'IND', 'TWN', 'KOR', 'AUS', 'JPN', 'BRA'],\n",
      "                       dtype=object),\n",
      "    'marker': {'line': {'color': 'white', 'width': 2}},\n",
      "    'showlegend': False,\n",
      "    'showscale': False,\n",
      "    'text': array(['China, P.R.: Hong Kong', 'United States', 'Netherlands, The',\n",
      "                   'United Kingdom', 'India', 'Taiwan Province of China', 'Korea, Rep. of',\n",
      "                   'Australia', 'Japan', 'Brazil'], dtype=object),\n",
      "    'uid': '6f236f67-9f19-4c20-9ee6-6be7891cdf0a',\n",
      "    'z': [1, 1, 1, 1, 1, 1, 1, 1, 1, 1]\n",
      "})\n"
     ]
    }
   ],
   "source": [
    "fig = go.FigureWidget()\n",
    "\n",
    "chosen_country_code = data['Country Code ISO3'].unique().tolist()\n",
    "chosen_country_lat = data['latitude'].iloc[0]\n",
    "chosen_country_lon = data['longitude'].iloc[0]\n",
    "chosen_country_color = 'rgb(255, 232, 84)'\n",
    "# counterpart_country_color = 'rgb(235, 124, 124)'\n",
    "counterpart_country_color = 'rgb(230, 230, 230)'\n",
    "\n",
    "# add chosen country\n",
    "chosen_country_map = go.Choropleth(\n",
    "    locations=chosen_country_code,\n",
    "    locationmode='ISO-3',\n",
    "    z = [1],\n",
    "    colorscale = [[0, chosen_country_color], [1, chosen_country_color]],\n",
    "    marker_line_color='white',\n",
    "    marker_line_width=2,\n",
    "    colorbar=None,\n",
    "    showscale=False,\n",
    "    hovertemplate = f'<b>{chosen_country}</b>'+ f'<extra>{chosen_country_code[0]}</extra>',\n",
    "    hoverlabel_bgcolor=chosen_country_color\n",
    ")\n",
    "fig.add_traces(chosen_country_map)\n",
    "\n",
    "# add counterpart countries\n",
    "counterpart_country_map = go.Choropleth(\n",
    "    locations=data['Counterpart Country Code ISO3'],\n",
    "    z=[1 for i in range(0, data['Counterpart Country Code ISO3'].shape[0])],\n",
    "    locationmode='ISO-3',\n",
    "    colorscale = [[0, counterpart_country_color], [1, counterpart_country_color]],\n",
    "    text=data['Counterpart Country Name'],\n",
    "    hovertext=data['Counterpart Country Code ISO3'],\n",
    "    marker_line_color='white',\n",
    "    marker_line_width=2,\n",
    "    autocolorscale=False,\n",
    "    showscale=False,\n",
    "    hovertemplate = '<b>%{text}</b><br><extra>%{hovertext}</extra>',\n",
    "    hoverlabel_bgcolor=counterpart_country_color\n",
    ")\n",
    "fig.add_trace(counterpart_country_map)\n",
    "\n",
    "for i, row in data.iterrows():\n",
    "    \n",
    "    # add arrows\n",
    "    fig.add_trace(\n",
    "        go.Scattergeo(\n",
    "            locationmode = 'ISO-3',\n",
    "            lon = [row['longitude'], row['Counterpart longitude']],\n",
    "            lat = [row['latitude'], row['Counterpart latitude']],\n",
    "            mode = 'lines',\n",
    "            line = dict(\n",
    "                width = row['width'],\n",
    "                color = 'rgb(45,237,28)' if row['total']>=0 else 'rgb(254,2,1)'\n",
    "            ),\n",
    "            hovertemplate = f'Counterpart Country: {row[\"Counterpart Country Name\"]}<br>' + row['Indicator Name'] + f': {row[\"total\"]}<extra></extra>',\n",
    "        )\n",
    "    )\n",
    "\n",
    "fig.update_traces(showlegend=False)\n",
    "fig.update_layout(\n",
    "    autosize=False,\n",
    "    margin=dict(\n",
    "        l=0,\n",
    "        r=0,\n",
    "        b=5,\n",
    "        t=50,\n",
    "        pad=0,\n",
    "        autoexpand=False\n",
    "    ),\n",
    "    width=900,\n",
    "    height=600,\n",
    "    hoverlabel_align = 'right',\n",
    "    title_text = f\"Top {chosen_top_n} & Bottom {chosen_top_n} Trade Balances of {chosen_country} from {chosen_start_year} to {chosen_end_year}\",\n",
    "    template='plotly_dark',\n",
    ")\n",
    "\n",
    "# fig.update_traces(, selector=dict(type='choropleth'))\n",
    "\n",
    "fig.update_geos(\n",
    "#     showcountries=True,\n",
    "#     countrycolor='grey',\n",
    "#     countrywidth=2,\n",
    "    landcolor='rgb(51, 51, 51)',\n",
    "    projection_type=\"orthographic\",\n",
    "    center=dict(lon=chosen_country_lon, lat=chosen_country_lat),\n",
    "    projection_rotation=dict(lon=chosen_country_lon, lat=chosen_country_lat, roll=0)\n",
    ")\n",
    "\n",
    "# create our callback function\n",
    "def update_point(trace, points, selector):\n",
    "    print(trace)\n",
    "\n",
    "fig.data[0].on_click(update_point)\n",
    "fig.data[1].on_click(update_point)\n",
    "\n",
    "fig"
   ]
  },
  {
   "cell_type": "code",
   "execution_count": null,
   "id": "af625f54",
   "metadata": {},
   "outputs": [],
   "source": []
  }
 ],
 "metadata": {
  "kernelspec": {
   "display_name": "Python 3 (ipykernel)",
   "language": "python",
   "name": "python3"
  },
  "language_info": {
   "codemirror_mode": {
    "name": "ipython",
    "version": 3
   },
   "file_extension": ".py",
   "mimetype": "text/x-python",
   "name": "python",
   "nbconvert_exporter": "python",
   "pygments_lexer": "ipython3",
   "version": "3.9.6"
  }
 },
 "nbformat": 4,
 "nbformat_minor": 5
}
